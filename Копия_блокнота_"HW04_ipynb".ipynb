{
  "cells": [
    {
      "cell_type": "markdown",
      "metadata": {
        "id": "FgzQ5bscUnsm"
      },
      "source": [
        "# Домашнее задание №4\n",
        "\n",
        "##### Автор: [Татьяна Гайнцева](https://www.linkedin.com/in/tgaintseva/), @atmyre"
      ]
    },
    {
      "cell_type": "code",
      "execution_count": null,
      "metadata": {
        "id": "dlo1UHiNUnsp"
      },
      "outputs": [],
      "source": [
        "import numpy as np\n",
        "\n",
        "import torch\n",
        "from torch import nn\n",
        "from torch.nn import functional as F\n",
        "\n",
        "import torchvision\n",
        "from torchvision import datasets, transforms\n",
        "\n",
        "from matplotlib import pyplot as plt\n",
        "from IPython.display import clear_output"
      ]
    },
    {
      "cell_type": "markdown",
      "source": [
        "Это домашнее задание состоит из двух частей. В первой части вам нужно реализовать правильную архитектуру сверточной нейросети. Во второй части — подобрать хорошую архитектуру и обучить ее на датасете CIFAR так, чтобы результаты метрики accuracy на тестовой части CIFAR были больше 60%"
      ],
      "metadata": {
        "id": "vdRDK1t0Wgxy"
      }
    },
    {
      "cell_type": "markdown",
      "source": [
        "## Задача №1:\n",
        "В этом задании вам нужно заполнить пропуски в ячейке ниже, чтобы получилась сверточная нейросеть с заданными параметрами."
      ],
      "metadata": {
        "id": "GmVeuJosbxFD"
      }
    },
    {
      "cell_type": "markdown",
      "source": [
        "Архитектура сети:\n",
        "**conv1 -> maxpool1 -> conv2 -> maxpool2 -> flatten -> fc1 -> fc2**\n",
        "\n",
        "- conv1: 3 фильтра размера (5, 5);\n",
        "- maxpool1: ядро размера 2;\n",
        "- conv2: 5 фильтров размера (3, 3);\n",
        "- maxpool2: ядро размера 2;\n",
        "- fc1: 100 нейронов на выходе;\n",
        "- fc2: 10 нейронов на выходе.\n",
        "\n",
        "После сверточных слоев и первого полносвязного слоя нужно применить функцию активации ReLU. **Важно:** для успешной сдачи задания функция активации должна быть применена с помощью F.ReLU (не с помощью nn.ReLU).\n",
        "\n",
        "**Нейросеть должна работать с изображениями размера 32х32. Никакие дополнительные параметры слоев, кроме указанных выше, задавать не нужно**."
      ],
      "metadata": {
        "id": "QwGlvTT-b5tW"
      }
    },
    {
      "cell_type": "code",
      "source": [
        "class ConvNet(nn.Module):\n",
        "    def __init__(self):\n",
        "        super().__init__()\n",
        "\n",
        "\n",
        "        self.conv1 = nn.Conv2d(in_channels=3, out_channels=3, kernel_size=(5,5))\n",
        "        self.pool1 = nn.MaxPool2d(kernel_size=(2,2))\n",
        "        self.conv2 = nn.Conv2d(in_channels=3, out_channels=5, kernel_size=(3,3))\n",
        "        self.pool2 = nn.MaxPool2d(kernel_size=(2,2))\n",
        "\n",
        "        self.flatten = nn.Flatten()\n",
        "\n",
        "        self.fc1 = nn.Linear(6*6*5, 100)\n",
        "        self.fc2 = nn.Linear(100, 10)\n",
        "\n",
        "\n",
        "    def forward(self, x):\n",
        "\n",
        "        x = F.relu(self.conv1(x))\n",
        "        x = self.pool1(x)\n",
        "        x = F.relu(self.conv2(x))\n",
        "        x = self.pool2(x)\n",
        "        x = self.flatten(x)\n",
        "        x = F.relu(self.fc1(x))\n",
        "        x = self.fc2(x)\n",
        "        return x"
      ],
      "metadata": {
        "id": "zEQy7-AEb9--"
      },
      "execution_count": null,
      "outputs": []
    },
    {
      "cell_type": "markdown",
      "source": [
        "### Проверка"
      ],
      "metadata": {
        "id": "0nouGfm_gDFD"
      }
    },
    {
      "cell_type": "markdown",
      "source": [
        "Ячейки ниже помогут проверить, что модель написана и работает правильно."
      ],
      "metadata": {
        "id": "TMWATEWKgFgp"
      }
    },
    {
      "cell_type": "code",
      "source": [
        "# Эта ячейка не должна выдавать ошибку.\n",
        "# Если при исполнении ячейки возникает ошибка, то в вашей реализации нейросети есть баги.\n",
        "img = torch.Tensor(np.random.random((32, 3, 32, 32)))\n",
        "model = ConvNet()\n",
        "out = model(img)"
      ],
      "metadata": {
        "id": "xVbCt6AffvNp"
      },
      "execution_count": null,
      "outputs": []
    },
    {
      "cell_type": "markdown",
      "source": [
        "Ячейка ниже проверяет, что устройство сети верное."
      ],
      "metadata": {
        "id": "HmVRmDEfgdoH"
      }
    },
    {
      "cell_type": "code",
      "source": [
        "# conv1\n",
        "assert model.conv1.kernel_size == (5, 5), \"неверный размер ядра у conv1\"\n",
        "assert model.conv1.in_channels == 3, \"неверный размер in_channels у conv1\"\n",
        "assert model.conv1.out_channels == 3, \"неверный размер out_channels у conv1\"\n",
        "\n",
        "# pool1\n",
        "assert model.pool1.kernel_size == (2, 2), \"неверный размер ядра у pool1\"\n",
        "\n",
        "# conv2\n",
        "assert model.conv2.kernel_size == (3, 3), \"неверный размер ядра у conv2\"\n",
        "assert model.conv2.in_channels == 3, \"неверный размер in_channels у conv2\"\n",
        "assert model.conv2.out_channels == 5, \"неверный размер out_channels у conv2\"\n",
        "\n",
        "# pool2\n",
        "assert model.pool1.kernel_size == (2, 2), \"неверный размер ядра у pool2\"\n",
        "\n",
        "# fc1\n",
        "assert model.fc1.out_features == 100, \"неверный размер out_features у fc1\"\n",
        "# fc2\n",
        "assert model.fc2.out_features == 10, \"неверный размер out_features у fc2\""
      ],
      "metadata": {
        "id": "iZ_t7mCDesVU"
      },
      "execution_count": null,
      "outputs": []
    },
    {
      "cell_type": "markdown",
      "source": [
        "### Сдача задания"
      ],
      "metadata": {
        "id": "dtKvuJRHqM_d"
      }
    },
    {
      "cell_type": "markdown",
      "source": [
        "Если обе ячейки отработали без ошибок, можно сдавать задание в первую задачу на Я.Контесте.\n",
        "Для этого нужно скопировать класс ConvNet в нужное место в `submission_template04.py` и отправить `submission_template04.py` в Я.Контест."
      ],
      "metadata": {
        "id": "QybQ4rtQgppH"
      }
    },
    {
      "cell_type": "markdown",
      "metadata": {
        "id": "obC9bnWsUnsr"
      },
      "source": [
        "## Задача №2:\n",
        "Вернемся к задаче классификации картинок [CIFAR](https://www.cs.toronto.edu/~kriz/cifar.html).\n",
        "\n",
        "__Ваша основная задача: реализовать весь пайплан обучения модели и добиться хорошего значения метрики accuracy на тестовой выборке.__\n",
        "Баллы за задание:\n",
        "- **0**, если accuracy на тестовой выборке <0.5;\n",
        "- **0.5**, если accuracy на тестовой выборке >0.5 и <0.6;\n",
        "- **1**, если accuracy на тестовой выборке >0.6;\n",
        "\n",
        "Код для обучения модели в данном задании полностью реализован. Вам нужно лишь написать код класса нейросети и поэкспериментировать с параметрами так, чтобы получить хорошее качество. В качестве основы архитектуры сети можно взять сеть из задачи №1."
      ]
    },
    {
      "cell_type": "markdown",
      "source": [
        "**! Перед выполнением этого задания рекомендуем включить GPU в настройках колаба.** Это поможет обучать нейросеть быстрее.\n",
        "\n",
        "Чтобы включить GPU, перейдите Edit->Notebook settings и выберите Hardware accelerator=GPU. Нажмите save."
      ],
      "metadata": {
        "id": "izGM3kjrhbCk"
      }
    },
    {
      "cell_type": "code",
      "source": [
        "import numpy as np\n",
        "\n",
        "import torch\n",
        "from torch import nn\n",
        "from torch.nn import functional as F\n",
        "\n",
        "import torchvision\n",
        "from torchvision import datasets, transforms\n",
        "\n",
        "from matplotlib import pyplot as plt\n",
        "from IPython.display import clear_output"
      ],
      "metadata": {
        "id": "ZUgd4OiDh4EP"
      },
      "execution_count": null,
      "outputs": []
    },
    {
      "cell_type": "markdown",
      "source": [
        "### Загрузка данных"
      ],
      "metadata": {
        "id": "i5VkRn8eYCL3"
      }
    },
    {
      "cell_type": "markdown",
      "source": [
        "Код загрузки данных тот же, что был на занятии. Менять ничего не нужно."
      ],
      "metadata": {
        "id": "w5-HED1XYV96"
      }
    },
    {
      "cell_type": "code",
      "execution_count": null,
      "metadata": {
        "id": "-31e0aCCUnss",
        "outputId": "6e590666-c0c7-430d-b423-1e2819d4faba",
        "colab": {
          "base_uri": "https://localhost:8080/"
        }
      },
      "outputs": [
        {
          "output_type": "stream",
          "name": "stderr",
          "text": [
            "100%|██████████| 170M/170M [00:02<00:00, 73.3MB/s]\n"
          ]
        }
      ],
      "source": [
        "# загружаем датасет из torchvision\n",
        "train_data = datasets.CIFAR10(root=\"./cifar10_data\", train=True, download=True, transform=transforms.ToTensor())\n",
        "test_data = datasets.CIFAR10(root=\"./cifar10_data\", train=False, download=True, transform=transforms.ToTensor())\n",
        "\n",
        "# делим тренировочную часть на train и val\n",
        "\n",
        "# в тренировочную выборку отнесем 80% всех картинок\n",
        "train_size = int(len(train_data) * 0.8)\n",
        "# в валидационную — остальные 20%\n",
        "val_size = len(train_data) - train_size\n",
        "\n",
        "train_data, val_data = torch.utils.data.random_split(train_data, [train_size, val_size])\n",
        "\n",
        "# заводим даталоадеры, которые будут генерировать батчи\n",
        "train_loader = torch.utils.data.DataLoader(train_data, batch_size=64, shuffle=True)\n",
        "val_loader = torch.utils.data.DataLoader(val_data, batch_size=64, shuffle=False)\n",
        "test_loader = torch.utils.data.DataLoader(test_data, batch_size=64, shuffle=False)"
      ]
    },
    {
      "cell_type": "markdown",
      "source": [
        "Посмотрим на несколько картинок из датасета:"
      ],
      "metadata": {
        "id": "3xJCM2lZYjtR"
      }
    },
    {
      "cell_type": "code",
      "source": [
        "# функция отрисовки картинок\n",
        "def show_images(images, labels):\n",
        "    f, axes= plt.subplots(1, 10, figsize=(30,5))\n",
        "\n",
        "    for i, axis in enumerate(axes):\n",
        "        # переводим картинку из тензора в numpy\n",
        "        img = images[i].numpy()\n",
        "        # переводим картинку в размерность (длина, ширина, цветовые каналы)\n",
        "        img = np.transpose(img, (1, 2, 0))\n",
        "\n",
        "        axes[i].imshow(img)\n",
        "        axes[i].set_title(labels[i].numpy())\n",
        "\n",
        "    plt.show()\n",
        "\n",
        "# получаем батч картинок\n",
        "for batch in train_loader:\n",
        "    images, labels = batch\n",
        "    break\n",
        "\n",
        "show_images(images, labels)"
      ],
      "metadata": {
        "id": "R7ZBNxsLYvMP",
        "outputId": "7c137019-b510-498a-f4f6-c2b7122b3a46",
        "colab": {
          "base_uri": "https://localhost:8080/",
          "height": 138
        }
      },
      "execution_count": null,
      "outputs": [
        {
          "output_type": "display_data",
          "data": {
            "text/plain": [
              "<Figure size 3000x500 with 10 Axes>"
            ],
            "image/png": "[encoded data removed]"
          },
          "metadata": {}
        }
      ]
    },
    {
      "cell_type": "markdown",
      "source": [
        "### Построение модели"
      ],
      "metadata": {
        "id": "EAbF9VCHifUg"
      }
    },
    {
      "cell_type": "markdown",
      "metadata": {
        "id": "ZN-AYLsyUnsu"
      },
      "source": [
        "Ниже — ячейка для построения модели. Не стоит сразу делать большую и сложную модель с большим количеством слоев: такая сеть будет обучаться очень долго и, скорее всего, переобучится.\n",
        "\n",
        "Ваша основная задача – обучить модель и получить качество на отложенной (тестовой выборке) не менее 60% accuracy.\n",
        "\n",
        "__Внимание: ваша модель должна быть представлена именно переменной `model`.__"
      ]
    },
    {
      "cell_type": "markdown",
      "source": [
        "Идеи, что можно попробовать, чтобы улучшить результат сети:\n",
        "\n",
        "- попробовать разное количество сверточных и полносвязных слоев;\n",
        "- попробовать разное количество фильтров в сверточных слоях;\n",
        "- попробовать разное количество нейронов в скрытых полносвязных слоях;\n",
        "- попробовать добавить BatchNorm, как после полносвязных, так и после сверточных слоев. Обратите внимание, что для сверточных слоев используется [nn.BatchNorm2d](https://pytorch.org/docs/stable/generated/torch.nn.BatchNorm2d.html). Аргумент num_features равен количеству фильтров (out_channels) сверточного слоя;\n",
        "- попробовать добавить/убрать max_pooling;\n",
        "- поменять learning_rate;\n",
        "- обучать сеть большее количество эпох.\n",
        "\n",
        "Если ваша модель переобучается (метрика на валидации нацинает становиться хуже), попробуйте уменьшить количество параметров модели. Если модель не переобучается, но показывает плохой результат, попробуйте увеличить количество параметров модели."
      ],
      "metadata": {
        "id": "QFaM1UeWaE4K"
      }
    },
    {
      "cell_type": "code",
      "execution_count": null,
      "metadata": {
        "id": "3UyozaPnUnsu"
      },
      "outputs": [],
      "source": [
        "class ConvNet(nn.Module):\n",
        "    def __init__(self):\n",
        "        super().__init__()\n",
        "\n",
        "\n",
        "        self.conv1 = nn.Conv2d(in_channels=3, out_channels=20, kernel_size=(5,5))\n",
        "        self.pool1 = nn.MaxPool2d(kernel_size=(2,2))\n",
        "        self.conv2 = nn.Conv2d(in_channels=20, out_channels=40, kernel_size=(3,3))\n",
        "        self.pool2 = nn.MaxPool2d(kernel_size=(2,2))\n",
        "        self.dr=nn.Dropout(p=0.3)\n",
        "        self.flatten = nn.Flatten()\n",
        "\n",
        "        self.fc1 = nn.Linear(26*26*40, 100)\n",
        "        self.fc2 = nn.Linear(100, 10)\n",
        "\n",
        "\n",
        "    def forward(self, x):\n",
        "\n",
        "        x = F.relu(self.conv1(x))\n",
        "        x = self.dr(x)\n",
        "        x = F.relu(self.conv2(x))\n",
        "        x = self.dr(x)\n",
        "        x = self.flatten(x)\n",
        "        x = F.relu(self.fc1(x))\n",
        "        x = self.dr(x)\n",
        "        x = self.fc2(x)\n",
        "        return x"
      ]
    },
    {
      "cell_type": "code",
      "source": [
        "model = ConvNet()"
      ],
      "metadata": {
        "id": "MFpILkiXhEz-"
      },
      "execution_count": null,
      "outputs": []
    },
    {
      "cell_type": "markdown",
      "source": [
        "Ячейка ниже проверяет, доступен ли GPU и если да, то переносит нейросеть на GPU."
      ],
      "metadata": {
        "id": "1reimxeCh9BA"
      }
    },
    {
      "cell_type": "code",
      "source": [
        "device = torch.device(\"cuda\" if torch.cuda.is_available() else \"cpu\")\n",
        "model = model.to(device)"
      ],
      "metadata": {
        "id": "keaqEK3ug9rd"
      },
      "execution_count": null,
      "outputs": []
    },
    {
      "cell_type": "markdown",
      "source": [
        "### Обучение модели"
      ],
      "metadata": {
        "id": "iKghv45uiEqo"
      }
    },
    {
      "cell_type": "markdown",
      "metadata": {
        "id": "b2onmgyzUntQ"
      },
      "source": [
        "Функция обучения сети (ее менять не нужно).\n",
        "\n",
        "Функция выводит текущие значения лосса и accuracy на train выборке каждые 50 итераций обучения. Также после каждой эпохи считается и выводится лосс и accuracy на val выборке. По этим значениям можно понимать, как хорошо обучается ваша модель."
      ]
    },
    {
      "cell_type": "code",
      "execution_count": null,
      "metadata": {
        "id": "jYsRSxVjUntR"
      },
      "outputs": [],
      "source": [
        "def evaluate(model, dataloader, loss_fn):\n",
        "\n",
        "    losses = []\n",
        "\n",
        "    num_correct = 0\n",
        "    num_elements = 0\n",
        "\n",
        "    for i, batch in enumerate(dataloader):\n",
        "\n",
        "        # так получаем текущий батч\n",
        "        X_batch, y_batch = batch\n",
        "        num_elements += len(y_batch)\n",
        "\n",
        "        with torch.no_grad():\n",
        "            logits = model(X_batch.to(device))\n",
        "\n",
        "            loss = loss_fn(logits, y_batch.to(device))\n",
        "            losses.append(loss.item())\n",
        "\n",
        "            y_pred = torch.argmax(logits, dim=1)\n",
        "\n",
        "            num_correct += torch.sum(y_pred.cpu() == y_batch)\n",
        "\n",
        "    accuracy = num_correct / num_elements\n",
        "\n",
        "    return accuracy.numpy(), np.mean(losses)\n",
        "\n",
        "def train(model, loss_fn, optimizer, n_epoch=3):\n",
        "\n",
        "    # цикл обучения сети\n",
        "    for epoch in range(n_epoch):\n",
        "\n",
        "        print(\"Epoch:\", epoch+1)\n",
        "\n",
        "        model.train(True)\n",
        "\n",
        "        running_losses = []\n",
        "        running_accuracies = []\n",
        "        for i, batch in enumerate(train_loader):\n",
        "            # так получаем текущий батч\n",
        "            X_batch, y_batch = batch\n",
        "\n",
        "            # forward pass (получение ответов на батч картинок)\n",
        "            logits = model(X_batch.to(device))\n",
        "\n",
        "            # вычисление лосса от выданных сетью ответов и правильных ответов на батч\n",
        "            loss = loss_fn(logits, y_batch.to(device))\n",
        "            running_losses.append(loss.item())\n",
        "\n",
        "            loss.backward() # backpropagation (вычисление градиентов)\n",
        "            optimizer.step() # обновление весов сети\n",
        "            optimizer.zero_grad() # обнуляем веса\n",
        "\n",
        "            # вычислим accuracy на текущем train батче\n",
        "            model_answers = torch.argmax(logits, dim=1)\n",
        "            train_accuracy = torch.sum(y_batch == model_answers.cpu()) / len(y_batch)\n",
        "            running_accuracies.append(train_accuracy)\n",
        "\n",
        "            # Логирование результатов\n",
        "            if (i+1) % 100 == 0:\n",
        "                print(\"Средние train лосс и accuracy на последних 50 итерациях:\",\n",
        "                      np.mean(running_losses), np.mean(running_accuracies), end='\\n')\n",
        "\n",
        "        # после каждой эпохи получаем метрику качества на валидационной выборке\n",
        "        model.train(False)\n",
        "\n",
        "        val_accuracy, val_loss = evaluate(model, val_loader, loss_fn=loss_fn)\n",
        "        print(\"Эпоха {}/{}: val лосс и accuracy:\".format(epoch+1, n_epoch,),\n",
        "                      val_loss, val_accuracy, end='\\n')\n",
        "\n",
        "    return model"
      ]
    },
    {
      "cell_type": "markdown",
      "source": [
        "Запускаем обучение."
      ],
      "metadata": {
        "id": "qEBr1qTOjfo3"
      }
    },
    {
      "cell_type": "code",
      "source": [
        "# снова объявим модель\n",
        "model = ConvNet()\n",
        "device = torch.device(\"cuda\" if torch.cuda.is_available() else \"cpu\")\n",
        "model = model.to(device)\n",
        "\n",
        "# выбираем функцию потерь\n",
        "loss_fn = torch.nn.CrossEntropyLoss()\n",
        "\n",
        "# выбираем алгоритм оптимизации и learning_rate.\n",
        "# вы можете экспериментировать с разными значениями learning_rate\n",
        "learning_rate = 1e-3\n",
        "optimizer = torch.optim.Adam(model.parameters(), lr=learning_rate)"
      ],
      "metadata": {
        "id": "KYqzqj02jZly"
      },
      "execution_count": null,
      "outputs": []
    },
    {
      "cell_type": "code",
      "source": [
        "# запустим обучение модели\n",
        "# параметр n_epoch можно варьировать\n",
        "model = train(model, loss_fn, optimizer, n_epoch=12)"
      ],
      "metadata": {
        "id": "QMgy5EGsnEZt",
        "outputId": "f1eee092-fca9-4325-a84f-252bce34e89c",
        "colab": {
          "base_uri": "https://localhost:8080/"
        }
      },
      "execution_count": null,
      "outputs": [
        {
          "output_type": "stream",
          "name": "stdout",
          "text": [
            "Epoch: 1\n",
            "Средние train лосс и accuracy на последних 50 итерациях: 2.2049842977523806 0.1715625\n",
            "Средние train лосс и accuracy на последних 50 итерациях: 2.0893424940109253 0.22445312\n",
            "Средние train лосс и accuracy на последних 50 итерациях: 2.00540670077006 0.26197916\n",
            "Средние train лосс и accuracy на последних 50 итерациях: 1.9340124228596687 0.28792968\n",
            "Средние train лосс и accuracy на последних 50 итерациях: 1.8832238626480102 0.30775\n",
            "Средние train лосс и accuracy на последних 50 итерациях: 1.8409657450517019 0.32338542\n",
            "Эпоха 1/12: val лосс и accuracy: 1.5314350530600092 0.4482\n",
            "Epoch: 2\n",
            "Средние train лосс и accuracy на последних 50 итерациях: 1.5555377650260924 0.42828125\n",
            "Средние train лосс и accuracy на последних 50 итерациях: 1.5542454075813295 0.4309375\n",
            "Средние train лосс и accuracy на последних 50 итерациях: 1.548854686419169 0.43567708\n",
            "Средние train лосс и accuracy на последних 50 итерациях: 1.5436007502675055 0.438125\n",
            "Средние train лосс и accuracy на последних 50 итерациях: 1.5360465922355653 0.44034374\n",
            "Средние train лосс и accuracy на последних 50 итерациях: 1.5315132796764375 0.4429948\n",
            "Эпоха 2/12: val лосс и accuracy: 1.3728224904673874 0.5026\n",
            "Epoch: 3\n",
            "Средние train лосс и accuracy на последних 50 итерациях: 1.4433545303344726 0.4684375\n",
            "Средние train лосс и accuracy на последних 50 итерациях: 1.4475189006328584 0.470625\n",
            "Средние train лосс и accuracy на последних 50 итерациях: 1.4489720543225606 0.47083333\n",
            "Средние train лосс и accuracy на последних 50 итерациях: 1.4450922524929046 0.4728125\n",
            "Средние train лосс и accuracy на последних 50 итерациях: 1.4410761783123016 0.47465625\n",
            "Средние train лосс и accuracy на последних 50 итерациях: 1.4360290374358495 0.47708333\n",
            "Эпоха 3/12: val лосс и accuracy: 1.325310108008658 0.5265\n",
            "Epoch: 4\n",
            "Средние train лосс и accuracy на последних 50 итерациях: 1.364614907503128 0.503125\n",
            "Средние train лосс и accuracy на последних 50 итерациях: 1.3587252697348595 0.5067969\n",
            "Средние train лосс и accuracy на последних 50 итерациях: 1.3594109306732813 0.50697917\n",
            "Средние train лосс и accuracy на последних 50 итерациях: 1.359517772346735 0.5076563\n",
            "Средние train лосс и accuracy на последних 50 итерациях: 1.3544931963682174 0.50875\n",
            "Средние train лосс и accuracy на последних 50 итерациях: 1.3563050908843677 0.50875\n",
            "Эпоха 4/12: val лосс и accuracy: 1.2414118154033733 0.558\n",
            "Epoch: 5\n",
            "Средние train лосс и accuracy на последних 50 итерациях: 1.2832574594020842 0.53515625\n",
            "Средние train лосс и accuracy на последних 50 итерациях: 1.295538677573204 0.5271875\n",
            "Средние train лосс и accuracy на последних 50 итерациях: 1.291441064476967 0.52744794\n",
            "Средние train лосс и accuracy на последних 50 итерациях: 1.289383145570755 0.5282422\n",
            "Средние train лосс и accuracy на последних 50 итерациях: 1.2895041878223419 0.52875\n",
            "Средние train лосс и accuracy на последних 50 итерациях: 1.2895699640115101 0.52989584\n",
            "Эпоха 5/12: val лосс и accuracy: 1.210254995306586 0.5615\n",
            "Epoch: 6\n",
            "Средние train лосс и accuracy на последних 50 итерациях: 1.2209823220968246 0.55546874\n",
            "Средние train лосс и accuracy на последних 50 итерациях: 1.240111438035965 0.5483594\n",
            "Средние train лосс и accuracy на последних 50 итерациях: 1.2360632614294689 0.55098957\n",
            "Средние train лосс и accuracy на последних 50 итерациях: 1.2382519479095935 0.55089843\n",
            "Средние train лосс и accuracy на последних 50 итерациях: 1.2401666586399078 0.5509375\n",
            "Средние train лосс и accuracy на последних 50 итерациях: 1.2413331971565882 0.5497917\n",
            "Эпоха 6/12: val лосс и accuracy: 1.1748455933704498 0.5805\n",
            "Epoch: 7\n",
            "Средние train лосс и accuracy на последних 50 итерациях: 1.1757752728462219 0.57890624\n",
            "Средние train лосс и accuracy на последних 50 итерациях: 1.1876357662677766 0.5689844\n",
            "Средние train лосс и accuracy на последних 50 итерациях: 1.1926745108763377 0.56661457\n",
            "Средние train лосс и accuracy на последних 50 итерациях: 1.1967953315377236 0.5651562\n",
            "Средние train лосс и accuracy на последних 50 итерациях: 1.1986711978912354 0.5642812\n",
            "Средние train лосс и accuracy на последних 50 итерациях: 1.1976055201888085 0.5652083\n",
            "Эпоха 7/12: val лосс и accuracy: 1.1586839875597863 0.5838\n",
            "Epoch: 8\n",
            "Средние train лосс и accuracy на последних 50 итерациях: 1.13958536028862 0.5840625\n",
            "Средние train лосс и accuracy на последних 50 итерациях: 1.1453439784049988 0.5832813\n",
            "Средние train лосс и accuracy на последних 50 итерациях: 1.1438153113921483 0.58447915\n",
            "Средние train лосс и accuracy на последних 50 итерациях: 1.151382527947426 0.5819531\n",
            "Средние train лосс и accuracy на последних 50 итерациях: 1.1504020540714264 0.58103126\n",
            "Средние train лосс и accuracy на последних 50 итерациях: 1.1550215154886245 0.5807292\n",
            "Эпоха 8/12: val лосс и accuracy: 1.1411352024716177 0.5929\n",
            "Epoch: 9\n",
            "Средние train лосс и accuracy на последних 50 итерациях: 1.0771848952770233 0.61140627\n",
            "Средние train лосс и accuracy на последних 50 итерациях: 1.1029025048017502 0.59765625\n",
            "Средние train лосс и accuracy на последних 50 итерациях: 1.1040970758597055 0.59739584\n",
            "Средние train лосс и accuracy на последних 50 итерациях: 1.1099587984383106 0.59453124\n",
            "Средние train лосс и accuracy на последних 50 итерациях: 1.112075350165367 0.5943125\n",
            "Средние train лосс и accuracy на последних 50 итерациях: 1.1113102762897809 0.5946615\n",
            "Эпоха 9/12: val лосс и accuracy: 1.1216865512216168 0.6051\n",
            "Epoch: 10\n",
            "Средние train лосс и accuracy на последних 50 итерациях: 1.0502168506383895 0.62\n",
            "Средние train лосс и accuracy на последних 50 итерациях: 1.0652847269177437 0.615625\n",
            "Средние train лосс и accuracy на последних 50 итерациях: 1.0628608789046605 0.61354166\n",
            "Средние train лосс и accuracy на последних 50 итерациях: 1.0673080152273178 0.61222655\n",
            "Средние train лосс и accuracy на последних 50 итерациях: 1.072539811372757 0.610125\n",
            "Средние train лосс и accuracy на последних 50 итерациях: 1.0754794851938883 0.60984373\n",
            "Эпоха 10/12: val лосс и accuracy: 1.122427078189364 0.6017\n",
            "Epoch: 11\n",
            "Средние train лосс и accuracy на последних 50 итерациях: 1.0063060134649278 0.6384375\n",
            "Средние train лосс и accuracy на последних 50 итерациях: 1.0214086943864822 0.6285156\n",
            "Средние train лосс и accuracy на последних 50 итерациях: 1.0257403991619747 0.6258854\n",
            "Средние train лосс и accuracy на последних 50 итерациях: 1.033061034977436 0.6248828\n",
            "Средние train лосс и accuracy на последних 50 итерациях: 1.0390554172992705 0.622125\n",
            "Средние train лосс и accuracy на последних 50 итерациях: 1.039405180811882 0.6222917\n",
            "Эпоха 11/12: val лосс и accuracy: 1.1396555388049714 0.5977\n",
            "Epoch: 12\n",
            "Средние train лосс и accuracy на последних 50 итерациях: 0.9734351712465287 0.6454688\n",
            "Средние train лосс и accuracy на последних 50 итерациях: 0.9804282116889954 0.64421874\n",
            "Средние train лосс и accuracy на последних 50 итерациях: 0.9992737921079 0.63640624\n",
            "Средние train лосс и accuracy на последних 50 итерациях: 1.0100041735172272 0.6321094\n",
            "Средние train лосс и accuracy на последних 50 итерациях: 1.014964157819748 0.6304375\n",
            "Средние train лосс и accuracy на последних 50 итерациях: 1.0140350666642188 0.6311719\n",
            "Эпоха 12/12: val лосс и accuracy: 1.1136240078385469 0.6095\n"
          ]
        }
      ]
    },
    {
      "cell_type": "markdown",
      "source": [
        "### Получение метрики качества на тестовой выборке"
      ],
      "metadata": {
        "id": "J-0bg_d9mQJc"
      }
    },
    {
      "cell_type": "code",
      "execution_count": null,
      "metadata": {
        "id": "5fdsfmmGUntS",
        "colab": {
          "base_uri": "https://localhost:8080/"
        },
        "outputId": "4facbc61-c016-41b4-d391-b551f570d32d"
      },
      "outputs": [
        {
          "output_type": "stream",
          "name": "stdout",
          "text": [
            "Accuracy на тесте 0.6117\n"
          ]
        }
      ],
      "source": [
        "test_accuracy, _ = evaluate(model, test_loader, loss_fn)\n",
        "print('Accuracy на тесте', test_accuracy)"
      ]
    },
    {
      "cell_type": "markdown",
      "source": [
        "Вы можете экспериментировать с разным устройством архитектуры нейросети и запускать ее обучение и проверять accuracy на тесте с помощью трех ячеек выше. Когда вы получили нужное значение accuracy на тесте, можете сдавать задание на Я.Контест."
      ],
      "metadata": {
        "id": "mTWg3rx7oigY"
      }
    },
    {
      "cell_type": "markdown",
      "metadata": {
        "id": "s1lUTTanUntT"
      },
      "source": [
        "Проверка, что необходимые пороги пройдены:"
      ]
    },
    {
      "cell_type": "code",
      "execution_count": null,
      "metadata": {
        "id": "h0D82xfkUntT"
      },
      "outputs": [],
      "source": [
        "if test_accuracy <= 0.5:\n",
        "    print(\"Качество на тесте ниже 0.5, 0 баллов\")\n",
        "elif test_accuracy < 0.6:\n",
        "    print(\"Качество на тесте между 0.5 и 0.6, 0.5 баллов\")\n",
        "elif test_accuracy >= 0.6:\n",
        "    print(\"Качество на тесте выше 0.6, 1 балл\")"
      ]
    },
    {
      "cell_type": "markdown",
      "metadata": {
        "id": "jaaib09bUntU"
      },
      "source": [
        "### Сдача задания\n",
        "В ячейке ниже реализован код для получения файла с обученной сетью. Запустите эти ячейки. Полученный файл model.pth отправьте в Я.Контест"
      ]
    },
    {
      "cell_type": "code",
      "execution_count": null,
      "metadata": {
        "id": "gnLPac1NUntV"
      },
      "outputs": [],
      "source": [
        "model.eval()\n",
        "x = torch.randn((1, 3, 32, 32))\n",
        "torch.jit.save(torch.jit.trace(model.cpu(), (x)), \"model.pth\")"
      ]
    },
    {
      "cell_type": "markdown",
      "metadata": {
        "id": "szdg0viDUntW"
      },
      "source": [
        "Теперь у вас во вкладке \"файлы\" лежит файл model.pth. Загрузите этот файл в Я.Контест. И на этом задание завершено. Поздравляем!"
      ]
    }
  ],
  "metadata": {
    "kernelspec": {
      "display_name": "Py3 Research",
      "language": "python",
      "name": "py3_research"
    },
    "language_info": {
      "codemirror_mode": {
        "name": "ipython",
        "version": 3
      },
      "file_extension": ".py",
      "mimetype": "text/x-python",
      "name": "python",
      "nbconvert_exporter": "python",
      "pygments_lexer": "ipython3",
      "version": "3.7.10"
    },
    "colab": {
      "provenance": [],
      "gpuType": "V28"
    },
    "accelerator": "TPU"
  },
  "nbformat": 4,
  "nbformat_minor": 0
}